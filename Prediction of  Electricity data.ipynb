{
 "cells": [
  {
   "cell_type": "markdown",
   "id": "c287f855",
   "metadata": {},
   "source": [
    "## Electricity price prediction"
   ]
  },
  {
   "cell_type": "code",
   "execution_count": 18,
   "id": "236c2cc4",
   "metadata": {},
   "outputs": [],
   "source": [
    "## Import Basic Library\n",
    "import numpy as np \n",
    "import pandas as pd\n",
    "import seaborn as sns\n",
    "import matplotlib.pyplot as plt\n",
    "\n",
    "from sklearn.model_selection import train_test_split,GridSearchCV,RandomizedSearchCV\n",
    "from sklearn.metrics import mean_squared_error,r2_score\n",
    "\n",
    "\n",
    "import plotly.express as px\n",
    "from sklearn.preprocessing import scale\n",
    "from sklearn.preprocessing import StandardScaler\n",
    "from sklearn import model_selection\n",
    "from sklearn.linear_model import Ridge,Lasso,RidgeCV,LassoCV,ElasticNet,ElasticNetCV,LinearRegression\n",
    "from sklearn.tree import DecisionTreeRegressor\n",
    "from sklearn.neighbors import KNeighborsRegressor\n",
    "from sklearn.neural_network import MLPRegressor\n",
    "from sklearn.ensemble import RandomForestRegressor\n",
    "from sklearn.ensemble import GradientBoostingRegressor\n",
    "from sklearn.ensemble import AdaBoostRegressor\n",
    "from sklearn import neighbors\n",
    "from sklearn.svm import SVR\n",
    "import warnings\n",
    "warnings.filterwarnings(\"ignore\")"
   ]
  },
  {
   "cell_type": "markdown",
   "id": "0380467d",
   "metadata": {},
   "source": [
    "## Read the Data"
   ]
  },
  {
   "cell_type": "code",
   "execution_count": 19,
   "id": "a2a1154d",
   "metadata": {},
   "outputs": [],
   "source": [
    "data= pd.read_csv('files/train/raw/abt_file.csv')"
   ]
  },
  {
   "cell_type": "markdown",
   "id": "dad27d20",
   "metadata": {},
   "source": [
    "## split train data and test data"
   ]
  },
  {
   "cell_type": "code",
   "execution_count": 20,
   "id": "5327b033",
   "metadata": {},
   "outputs": [],
   "source": [
    "\n",
    "# target and lable\n",
    "X = data.drop(columns=['SMPEP2'])  # excluding target 'SMPEP2'.\n",
    "y = data['SMPEP2']                 # includingTarget 'SMPEP2'.\n",
    "X_train,X_test,y_train,y_test= train_test_split(X,y, train_size=0.7, shuffle=True , random_state=123)"
   ]
  },
  {
   "cell_type": "code",
   "execution_count": 22,
   "id": "9a7f1e4b",
   "metadata": {},
   "outputs": [
    {
     "data": {
      "text/plain": [
       "Holiday                     int64\n",
       "HolidayFlag                 int64\n",
       "DayOfWeek                   int64\n",
       "WeekOfYear                  int64\n",
       "Day                         int64\n",
       "Month                       int64\n",
       "Year                        int64\n",
       "PeriodOfDay                 int64\n",
       "ForecastWindProduction    float64\n",
       "SystemLoadEA              float64\n",
       "SMPEA                     float64\n",
       "ORKTemperature            float64\n",
       "ORKWindspeed              float64\n",
       "CO2Intensity              float64\n",
       "ActualWindProduction      float64\n",
       "SystemLoadEP2             float64\n",
       "dtype: object"
      ]
     },
     "execution_count": 22,
     "metadata": {},
     "output_type": "execute_result"
    }
   ],
   "source": [
    "X_train.dtypes"
   ]
  },
  {
   "cell_type": "markdown",
   "id": "b95171b6",
   "metadata": {},
   "source": [
    "### X and y variables are split into X_train, X_test, y_train, and y_test with a train size of 0.7 (70% of the data) and a random state of 123 for reproducibility. The shuffle parameter is set to True to shuffle the data before splitting."
   ]
  },
  {
   "cell_type": "code",
   "execution_count": 23,
   "id": "ee9c9b5c",
   "metadata": {},
   "outputs": [],
   "source": [
    "X_train.to_csv('files/train/raw/X_train.csv',index=False)\n",
    "y_train.to_csv('files/train/raw/y_train.csv',index=False)\n",
    "\n",
    "X_test.to_csv('files/test/raw/x_test.csv',index=False)\n",
    "y_test.to_csv('files/test/raw/y_test.csv',index=False)"
   ]
  },
  {
   "cell_type": "code",
   "execution_count": 24,
   "id": "7c2f642f",
   "metadata": {},
   "outputs": [
    {
     "data": {
      "text/html": [
       "<div>\n",
       "<style scoped>\n",
       "    .dataframe tbody tr th:only-of-type {\n",
       "        vertical-align: middle;\n",
       "    }\n",
       "\n",
       "    .dataframe tbody tr th {\n",
       "        vertical-align: top;\n",
       "    }\n",
       "\n",
       "    .dataframe thead th {\n",
       "        text-align: right;\n",
       "    }\n",
       "</style>\n",
       "<table border=\"1\" class=\"dataframe\">\n",
       "  <thead>\n",
       "    <tr style=\"text-align: right;\">\n",
       "      <th></th>\n",
       "      <th>Holiday</th>\n",
       "      <th>HolidayFlag</th>\n",
       "      <th>DayOfWeek</th>\n",
       "      <th>WeekOfYear</th>\n",
       "      <th>Day</th>\n",
       "      <th>Month</th>\n",
       "      <th>Year</th>\n",
       "      <th>PeriodOfDay</th>\n",
       "      <th>ForecastWindProduction</th>\n",
       "      <th>SystemLoadEA</th>\n",
       "      <th>SMPEA</th>\n",
       "      <th>ORKTemperature</th>\n",
       "      <th>ORKWindspeed</th>\n",
       "      <th>CO2Intensity</th>\n",
       "      <th>ActualWindProduction</th>\n",
       "      <th>SystemLoadEP2</th>\n",
       "      <th>SMPEP2</th>\n",
       "    </tr>\n",
       "  </thead>\n",
       "  <tbody>\n",
       "    <tr>\n",
       "      <th>0</th>\n",
       "      <td>11</td>\n",
       "      <td>0</td>\n",
       "      <td>1</td>\n",
       "      <td>44</td>\n",
       "      <td>1</td>\n",
       "      <td>11</td>\n",
       "      <td>2011</td>\n",
       "      <td>0</td>\n",
       "      <td>315.31</td>\n",
       "      <td>3388.77</td>\n",
       "      <td>49.26</td>\n",
       "      <td>6.0</td>\n",
       "      <td>9.3</td>\n",
       "      <td>600.71</td>\n",
       "      <td>356.0</td>\n",
       "      <td>3159.60</td>\n",
       "      <td>54.32</td>\n",
       "    </tr>\n",
       "    <tr>\n",
       "      <th>1</th>\n",
       "      <td>11</td>\n",
       "      <td>0</td>\n",
       "      <td>1</td>\n",
       "      <td>44</td>\n",
       "      <td>1</td>\n",
       "      <td>11</td>\n",
       "      <td>2011</td>\n",
       "      <td>1</td>\n",
       "      <td>321.80</td>\n",
       "      <td>3196.66</td>\n",
       "      <td>49.26</td>\n",
       "      <td>6.0</td>\n",
       "      <td>11.1</td>\n",
       "      <td>605.42</td>\n",
       "      <td>317.0</td>\n",
       "      <td>2973.01</td>\n",
       "      <td>54.23</td>\n",
       "    </tr>\n",
       "    <tr>\n",
       "      <th>2</th>\n",
       "      <td>11</td>\n",
       "      <td>0</td>\n",
       "      <td>1</td>\n",
       "      <td>44</td>\n",
       "      <td>1</td>\n",
       "      <td>11</td>\n",
       "      <td>2011</td>\n",
       "      <td>2</td>\n",
       "      <td>328.57</td>\n",
       "      <td>3060.71</td>\n",
       "      <td>49.10</td>\n",
       "      <td>5.0</td>\n",
       "      <td>11.1</td>\n",
       "      <td>589.97</td>\n",
       "      <td>311.0</td>\n",
       "      <td>2834.00</td>\n",
       "      <td>54.23</td>\n",
       "    </tr>\n",
       "    <tr>\n",
       "      <th>3</th>\n",
       "      <td>11</td>\n",
       "      <td>0</td>\n",
       "      <td>1</td>\n",
       "      <td>44</td>\n",
       "      <td>1</td>\n",
       "      <td>11</td>\n",
       "      <td>2011</td>\n",
       "      <td>3</td>\n",
       "      <td>335.60</td>\n",
       "      <td>2945.56</td>\n",
       "      <td>48.04</td>\n",
       "      <td>6.0</td>\n",
       "      <td>9.3</td>\n",
       "      <td>585.94</td>\n",
       "      <td>313.0</td>\n",
       "      <td>2725.99</td>\n",
       "      <td>53.47</td>\n",
       "    </tr>\n",
       "    <tr>\n",
       "      <th>4</th>\n",
       "      <td>11</td>\n",
       "      <td>0</td>\n",
       "      <td>1</td>\n",
       "      <td>44</td>\n",
       "      <td>1</td>\n",
       "      <td>11</td>\n",
       "      <td>2011</td>\n",
       "      <td>4</td>\n",
       "      <td>342.90</td>\n",
       "      <td>2849.34</td>\n",
       "      <td>33.75</td>\n",
       "      <td>6.0</td>\n",
       "      <td>11.1</td>\n",
       "      <td>571.52</td>\n",
       "      <td>346.0</td>\n",
       "      <td>2655.64</td>\n",
       "      <td>39.87</td>\n",
       "    </tr>\n",
       "    <tr>\n",
       "      <th>...</th>\n",
       "      <td>...</td>\n",
       "      <td>...</td>\n",
       "      <td>...</td>\n",
       "      <td>...</td>\n",
       "      <td>...</td>\n",
       "      <td>...</td>\n",
       "      <td>...</td>\n",
       "      <td>...</td>\n",
       "      <td>...</td>\n",
       "      <td>...</td>\n",
       "      <td>...</td>\n",
       "      <td>...</td>\n",
       "      <td>...</td>\n",
       "      <td>...</td>\n",
       "      <td>...</td>\n",
       "      <td>...</td>\n",
       "      <td>...</td>\n",
       "    </tr>\n",
       "    <tr>\n",
       "      <th>37677</th>\n",
       "      <td>10</td>\n",
       "      <td>1</td>\n",
       "      <td>1</td>\n",
       "      <td>1</td>\n",
       "      <td>31</td>\n",
       "      <td>12</td>\n",
       "      <td>2013</td>\n",
       "      <td>43</td>\n",
       "      <td>1179.14</td>\n",
       "      <td>3932.22</td>\n",
       "      <td>34.51</td>\n",
       "      <td>6.0</td>\n",
       "      <td>22.2</td>\n",
       "      <td>285.31</td>\n",
       "      <td>812.0</td>\n",
       "      <td>3692.95</td>\n",
       "      <td>42.45</td>\n",
       "    </tr>\n",
       "    <tr>\n",
       "      <th>37678</th>\n",
       "      <td>10</td>\n",
       "      <td>1</td>\n",
       "      <td>1</td>\n",
       "      <td>1</td>\n",
       "      <td>31</td>\n",
       "      <td>12</td>\n",
       "      <td>2013</td>\n",
       "      <td>44</td>\n",
       "      <td>1152.01</td>\n",
       "      <td>3821.44</td>\n",
       "      <td>33.83</td>\n",
       "      <td>5.0</td>\n",
       "      <td>24.1</td>\n",
       "      <td>278.31</td>\n",
       "      <td>852.0</td>\n",
       "      <td>3571.00</td>\n",
       "      <td>33.83</td>\n",
       "    </tr>\n",
       "    <tr>\n",
       "      <th>37679</th>\n",
       "      <td>10</td>\n",
       "      <td>1</td>\n",
       "      <td>1</td>\n",
       "      <td>1</td>\n",
       "      <td>31</td>\n",
       "      <td>12</td>\n",
       "      <td>2013</td>\n",
       "      <td>45</td>\n",
       "      <td>1123.67</td>\n",
       "      <td>3724.21</td>\n",
       "      <td>31.75</td>\n",
       "      <td>4.0</td>\n",
       "      <td>20.4</td>\n",
       "      <td>280.91</td>\n",
       "      <td>962.0</td>\n",
       "      <td>3460.29</td>\n",
       "      <td>31.75</td>\n",
       "    </tr>\n",
       "    <tr>\n",
       "      <th>37680</th>\n",
       "      <td>10</td>\n",
       "      <td>1</td>\n",
       "      <td>1</td>\n",
       "      <td>1</td>\n",
       "      <td>31</td>\n",
       "      <td>12</td>\n",
       "      <td>2013</td>\n",
       "      <td>46</td>\n",
       "      <td>1094.24</td>\n",
       "      <td>3638.16</td>\n",
       "      <td>33.83</td>\n",
       "      <td>5.0</td>\n",
       "      <td>14.8</td>\n",
       "      <td>302.46</td>\n",
       "      <td>950.0</td>\n",
       "      <td>3563.99</td>\n",
       "      <td>50.60</td>\n",
       "    </tr>\n",
       "    <tr>\n",
       "      <th>37681</th>\n",
       "      <td>10</td>\n",
       "      <td>1</td>\n",
       "      <td>1</td>\n",
       "      <td>1</td>\n",
       "      <td>31</td>\n",
       "      <td>12</td>\n",
       "      <td>2013</td>\n",
       "      <td>47</td>\n",
       "      <td>1064.00</td>\n",
       "      <td>3624.25</td>\n",
       "      <td>33.83</td>\n",
       "      <td>5.0</td>\n",
       "      <td>16.7</td>\n",
       "      <td>308.01</td>\n",
       "      <td>1020.0</td>\n",
       "      <td>3517.08</td>\n",
       "      <td>34.90</td>\n",
       "    </tr>\n",
       "  </tbody>\n",
       "</table>\n",
       "<p>37682 rows × 17 columns</p>\n",
       "</div>"
      ],
      "text/plain": [
       "       Holiday  HolidayFlag  DayOfWeek  WeekOfYear  Day  Month  Year  \\\n",
       "0           11            0          1          44    1     11  2011   \n",
       "1           11            0          1          44    1     11  2011   \n",
       "2           11            0          1          44    1     11  2011   \n",
       "3           11            0          1          44    1     11  2011   \n",
       "4           11            0          1          44    1     11  2011   \n",
       "...        ...          ...        ...         ...  ...    ...   ...   \n",
       "37677       10            1          1           1   31     12  2013   \n",
       "37678       10            1          1           1   31     12  2013   \n",
       "37679       10            1          1           1   31     12  2013   \n",
       "37680       10            1          1           1   31     12  2013   \n",
       "37681       10            1          1           1   31     12  2013   \n",
       "\n",
       "       PeriodOfDay  ForecastWindProduction  SystemLoadEA  SMPEA  \\\n",
       "0                0                  315.31       3388.77  49.26   \n",
       "1                1                  321.80       3196.66  49.26   \n",
       "2                2                  328.57       3060.71  49.10   \n",
       "3                3                  335.60       2945.56  48.04   \n",
       "4                4                  342.90       2849.34  33.75   \n",
       "...            ...                     ...           ...    ...   \n",
       "37677           43                 1179.14       3932.22  34.51   \n",
       "37678           44                 1152.01       3821.44  33.83   \n",
       "37679           45                 1123.67       3724.21  31.75   \n",
       "37680           46                 1094.24       3638.16  33.83   \n",
       "37681           47                 1064.00       3624.25  33.83   \n",
       "\n",
       "       ORKTemperature  ORKWindspeed  CO2Intensity  ActualWindProduction  \\\n",
       "0                 6.0           9.3        600.71                 356.0   \n",
       "1                 6.0          11.1        605.42                 317.0   \n",
       "2                 5.0          11.1        589.97                 311.0   \n",
       "3                 6.0           9.3        585.94                 313.0   \n",
       "4                 6.0          11.1        571.52                 346.0   \n",
       "...               ...           ...           ...                   ...   \n",
       "37677             6.0          22.2        285.31                 812.0   \n",
       "37678             5.0          24.1        278.31                 852.0   \n",
       "37679             4.0          20.4        280.91                 962.0   \n",
       "37680             5.0          14.8        302.46                 950.0   \n",
       "37681             5.0          16.7        308.01                1020.0   \n",
       "\n",
       "       SystemLoadEP2  SMPEP2  \n",
       "0            3159.60   54.32  \n",
       "1            2973.01   54.23  \n",
       "2            2834.00   54.23  \n",
       "3            2725.99   53.47  \n",
       "4            2655.64   39.87  \n",
       "...              ...     ...  \n",
       "37677        3692.95   42.45  \n",
       "37678        3571.00   33.83  \n",
       "37679        3460.29   31.75  \n",
       "37680        3563.99   50.60  \n",
       "37681        3517.08   34.90  \n",
       "\n",
       "[37682 rows x 17 columns]"
      ]
     },
     "execution_count": 24,
     "metadata": {},
     "output_type": "execute_result"
    }
   ],
   "source": [
    "data"
   ]
  },
  {
   "cell_type": "markdown",
   "id": "adad5117",
   "metadata": {},
   "source": [
    "## Prediction"
   ]
  },
  {
   "cell_type": "markdown",
   "id": "3393a79e",
   "metadata": {},
   "source": [
    "## Linear Regression Mode"
   ]
  },
  {
   "cell_type": "code",
   "execution_count": 25,
   "id": "69d313a0",
   "metadata": {},
   "outputs": [
    {
     "name": "stdout",
     "output_type": "stream",
     "text": [
      "Mean Squared Error: 645.3523698185595\n",
      "R-squared: 46.422039015085005 %\n"
     ]
    }
   ],
   "source": [
    "reg_model = LinearRegression()\n",
    "reg_model.fit(X_train, y_train)\n",
    "\n",
    "y_pred = reg_model.predict(X_test)\n",
    "\n",
    "# Calculate mean squared error and R-squared\n",
    "mse = mean_squared_error(y_test, y_pred)\n",
    "r2 = r2_score(y_test, y_pred)\n",
    "\n",
    "print(\"Mean Squared Error:\", mse)\n",
    "print(\"R-squared:\", r2*100,\"%\")\n"
   ]
  },
  {
   "cell_type": "code",
   "execution_count": 12,
   "id": "79bb0ff1",
   "metadata": {},
   "outputs": [
    {
     "data": {
      "text/plain": [
       "['files/train/model/lor.pkl']"
      ]
     },
     "execution_count": 12,
     "metadata": {},
     "output_type": "execute_result"
    }
   ],
   "source": [
    "import joblib as jb\n",
    "jb.dump(reg_model,\"files/train/model/lor.pkl\")"
   ]
  },
  {
   "cell_type": "markdown",
   "id": "9bcd3853",
   "metadata": {},
   "source": [
    "## RandomForestRegressor"
   ]
  },
  {
   "cell_type": "code",
   "execution_count": 13,
   "id": "a0421d74",
   "metadata": {},
   "outputs": [
    {
     "name": "stdout",
     "output_type": "stream",
     "text": [
      "Random Forest - Mean Squared Error: 437.858869754636\n",
      "Random Forest - R-squared: 63.64840893478316 %\n"
     ]
    }
   ],
   "source": [
    "from sklearn.ensemble import RandomForestRegressor\n",
    "\n",
    "# Initialize the Random Forest Regressor\n",
    "rf_model = RandomForestRegressor(n_estimators=100, random_state=42)\n",
    "\n",
    "# Fit the model on the training data\n",
    "rf_model.fit(X_train, y_train)\n",
    "\n",
    "# Make predictions on the test data\n",
    "y_pred_rf = rf_model.predict(X_test)\n",
    "\n",
    "# Calculate mean squared error and R-squared for Random Forest predictions\n",
    "mse_rf = mean_squared_error(y_test, y_pred_rf)\n",
    "r2_rf = r2_score(y_test, y_pred_rf)\n",
    "\n",
    "print(\"Random Forest - Mean Squared Error:\", mse_rf)\n",
    "print(\"Random Forest - R-squared:\", r2_rf*100,\"%\")"
   ]
  },
  {
   "cell_type": "markdown",
   "id": "fa97beb2",
   "metadata": {},
   "source": []
  },
  {
   "cell_type": "markdown",
   "id": "6e472329",
   "metadata": {},
   "source": [
    "## True Prices vs. Predicted Prices"
   ]
  },
  {
   "cell_type": "code",
   "execution_count": 14,
   "id": "2dd843d0",
   "metadata": {
    "scrolled": false
   },
   "outputs": [
    {
     "data": {
      "image/png": "[encoded data removed]",
      "text/plain": [
       "<Figure size 640x480 with 1 Axes>"
      ]
     },
     "metadata": {},
     "output_type": "display_data"
    }
   ],
   "source": [
    "plt.scatter(y_test, y_pred, alpha=0.5)  # Set alpha value to 0.5 (adjust as needed)\n",
    "plt.xlabel(\"True Prices\")\n",
    "plt.ylabel(\"Predicted Prices\")\n",
    "plt.title(\"True Prices vs. Predicted Prices\")\n",
    "plt.show()\n"
   ]
  },
  {
   "cell_type": "markdown",
   "id": "814e3bc1",
   "metadata": {},
   "source": [
    "### -Mean Squared Error (MSE): The MSE measures the average squared difference between the predicted electricity prices and the true electricity prices on the test set. A lower MSE indicates that the model's predictions are closer to the true values, and in this case, the MSE of 437.86 is relatively low.\n",
    "### -R-squared (R2 Score): The R-squared value represents the proportion of the variance in the electricity prices that is explained by the Random Forest model. An R2 score of 63.65% indicates that the model can explain approximately 63.65% of the variability in the electricity prices. This means that the features used in the model capture a substantial portion of the variance in the target variable."
   ]
  },
  {
   "cell_type": "markdown",
   "id": "1da1d6f1",
   "metadata": {},
   "source": [
    "## We get low accuerency so we can reduce the coloums and again run the RandomForestRegressor"
   ]
  },
  {
   "cell_type": "code",
   "execution_count": 15,
   "id": "a33f2cad",
   "metadata": {},
   "outputs": [],
   "source": [
    "X2=data[[\"SMPEA\",\"SystemLoadEP2\",\"SystemLoadEA\",\"PeriodOfDay\",\n",
    "     \"Year\",\"ActualWindProduction\"]]\n",
    "y2=data[\"SMPEP2\"]"
   ]
  },
  {
   "cell_type": "code",
   "execution_count": 16,
   "id": "fabd37cf",
   "metadata": {},
   "outputs": [],
   "source": [
    "X_train2,X_test2,y_train2,y_test2=train_test_split(X2,y2,test_size=0.3,random_state=0)"
   ]
  },
  {
   "cell_type": "code",
   "execution_count": 17,
   "id": "f3f84107",
   "metadata": {},
   "outputs": [
    {
     "data": {
      "text/plain": [
       "93.47211191427499"
      ]
     },
     "execution_count": 17,
     "metadata": {},
     "output_type": "execute_result"
    }
   ],
   "source": [
    "rf2=RandomForestRegressor().fit(X_train2,y_train2)\n",
    "rf2.score(X_train2,y_train2)*100\n"
   ]
  },
  {
   "cell_type": "markdown",
   "id": "7bd1641d",
   "metadata": {},
   "source": [
    " Conclusion:\n",
    "\n",
    "In this project, we aimed to develop an accurate electricity price prediction model using the RandomForest algorithm. \n",
    "After extensive data preprocessing, feature engineering, and model training,\n",
    "we achieved an impressive accuracy score of 93.39% on the test dataset."
   ]
  }
 ],
 "metadata": {
  "kernelspec": {
   "display_name": "Python 3 (ipykernel)",
   "language": "python",
   "name": "python3"
  },
  "language_info": {
   "codemirror_mode": {
    "name": "ipython",
    "version": 3
   },
   "file_extension": ".py",
   "mimetype": "text/x-python",
   "name": "python",
   "nbconvert_exporter": "python",
   "pygments_lexer": "ipython3",
   "version": "3.11.0"
  }
 },
 "nbformat": 4,
 "nbformat_minor": 5
}
